{
 "cells": [
  {
   "cell_type": "code",
   "execution_count": 4,
   "metadata": {},
   "outputs": [],
   "source": [
    "import os\n",
    "import numpy as np\n",
    "import pandas as pd\n",
    "import seaborn as sns\n",
    "import matplotlib.pyplot as plt\n",
    "import librosa\n",
    "from sklearn.model_selection import train_test_split, StratifiedKFold, RepeatedStratifiedKFold, GridSearchCV, cross_val_score\n",
    "from sklearn.metrics import confusion_matrix, roc_auc_score, accuracy_score, precision_recall_curve\n",
    "from sklearn.preprocessing import StandardScaler\n",
    "from sklearn.ensemble import RandomForestClassifier\n",
    "from sklearn.linear_model import LogisticRegression\n",
    "from sklearn.ensemble import AdaBoostClassifier\n",
    "from sklearn.ensemble import GradientBoostingClassifier\n",
    "from sklearn.neighbors import KNeighborsClassifier as KNN\n",
    "from sklearn.svm import SVC\n",
    "from xgboost import XGBClassifier\n"
   ]
  },
  {
   "cell_type": "code",
   "execution_count": 5,
   "metadata": {},
   "outputs": [],
   "source": [
    "def extract_features(file_path):\n",
    "    try:\n",
    "        # Load audio file\n",
    "        audio, sr = librosa.load(file_path, sr=None)  # Using `sr=None` to preserve original sampling rate\n",
    "        # Extract MFCCs, ensuring no NaNs or infinite values\n",
    "        mfccs = librosa.feature.mfcc(y=audio, sr=sr, n_mfcc=20)\n",
    "        if np.any(np.isnan(mfccs)) or np.any(np.isinf(mfccs)):\n",
    "            raise ValueError(\"NaN or Inf in extracted MFCCs\")\n",
    "        mfccs_mean = np.mean(mfccs, axis=1)\n",
    "        return mfccs_mean\n",
    "    except Exception as e:\n",
    "        print(f\"Error processing {file_path}: {e}\")\n",
    "        return None  # Returning None to indicate failure"
   ]
  },
  {
   "cell_type": "code",
   "execution_count": 6,
   "metadata": {},
   "outputs": [
    {
     "name": "stdout",
     "output_type": "stream",
     "text": [
      "X_train_shape: (104, 20)\n",
      "X_test_shape: (27, 20)\n",
      "y_train_shape: (104,)\n",
      "y_test_shape: (27,)\n",
      "\n"
     ]
    }
   ],
   "source": [
    "# Define directories containing male and female voice files\n",
    "male_voice_dir = 'data/male'  # Directory containing male voice files in .ogg format\n",
    "female_voice_dir = 'data/female'  # Directory containing female voice files in .ogg format\n",
    "\n",
    "# Get file paths\n",
    "male_voice_files = [os.path.join(male_voice_dir, file) for file in os.listdir(male_voice_dir) if file.endswith('.ogg')]\n",
    "female_voice_files = [os.path.join(female_voice_dir, file) for file in os.listdir(female_voice_dir) if file.endswith('.ogg')]\n",
    "\n",
    "# Load voice data and extract features\n",
    "X = []\n",
    "y = []\n",
    "\n",
    "for file_path in male_voice_files:\n",
    "    features = extract_features(file_path)\n",
    "    X.append(features)\n",
    "    y.append(1)  # 1 represents male\n",
    "\n",
    "for file_path in female_voice_files:\n",
    "    features = extract_features(file_path)\n",
    "    X.append(features)\n",
    "    y.append(0)  # 0 represents female\n",
    "\n",
    "# Convert lists to numpy arrays\n",
    "X = np.array(X)\n",
    "y = np.array(y)\n",
    "\n",
    "# Split the data into training and testing sets\n",
    "\n",
    "X_train_not_scaled, X_test, y_train, y_test= train_test_split(X, y, random_state=42, test_size=0.2, stratify=y)\n",
    "print('X_train_shape: ' + str(X_train_not_scaled.shape) + '\\nX_test_shape: ' + str(X_test.shape)\\\n",
    "       + '\\ny_train_shape: ' + str(y_train.shape) + '\\ny_test_shape: ' + str(y_test.shape) + '\\n')\n",
    "\n",
    "#Add scaler to the train data\n",
    "scaler = StandardScaler()\n",
    "\n",
    "X_train = scaler.fit_transform(X_train_not_scaled)\n",
    "\n"
   ]
  },
  {
   "cell_type": "code",
   "execution_count": 7,
   "metadata": {},
   "outputs": [],
   "source": [
    "def modelers(classifier):\n",
    "\n",
    "    classifier.fit(X_train,y_train)\n",
    "    prediction = classifier.predict(X_test)\n",
    "    prediction_tr = classifier.predict(X_train)\n",
    "    cv = RepeatedStratifiedKFold(n_splits = 4,n_repeats = 3,random_state = 42)\n",
    "    print(\"Accuracy on train data: \",'{0:.2%}'.format(accuracy_score(y_train,prediction_tr)))\n",
    "    print(\"Cross Validation Score : \",'{0:.2%}'.format(cross_val_score(classifier,X_train,y_train,cv = cv,scoring = 'roc_auc').mean()))\n",
    "    print(\"Accuracy on test data: \",'{0:.2%}'.format(accuracy_score(y_test,prediction)))\n",
    "    print(\"ROC_AUC Score : \",'{0:.2%}'.format(roc_auc_score(y_test,prediction)))\n",
    "    "
   ]
  },
  {
   "cell_type": "code",
   "execution_count": 9,
   "metadata": {},
   "outputs": [
    {
     "name": "stdout",
     "output_type": "stream",
     "text": [
      "the highest accuracy score is: 0.884\n",
      "the best hyperparameter combination is:\\ {'max_depth': 5, 'min_child_weight': 1, 'n_estimators': 10}\n"
     ]
    }
   ],
   "source": [
    "xg_model=XGBClassifier(use_label_encoder=False)\n",
    "grids = {'min_child_weight': [1, 2, 5, 10],\n",
    "         'n_estimators': [10, 20, 50],\n",
    "         'max_depth': [2, 5, 10]}\n",
    "\n",
    "xg_model=XGBClassifier(use_label_encoder=False)\n",
    "gscv = GridSearchCV(xg_model,  grids, scoring= 'accuracy')\n",
    "score_best_estimator = gscv.fit(X_train, y_train).score(X_test, y_test)\n",
    "print('the highest accuracy score is: {:.3f}'.format(gscv.best_score_))\n",
    "print('the best hyperparameter combination is:\\ {}'.format(gscv.best_params_))"
   ]
  },
  {
   "cell_type": "code",
   "execution_count": 10,
   "metadata": {},
   "outputs": [
    {
     "name": "stdout",
     "output_type": "stream",
     "text": [
      "Accuracy on train data:  98.08%\n",
      "Cross Validation Score :  88.96%\n",
      "Accuracy on test data:  81.48%\n",
      "ROC_AUC Score :  78.69%\n"
     ]
    }
   ],
   "source": [
    "xgb = XGBClassifier(max_depth=5, n_estimators=10, min_child_weight=1)\n",
    "model1=modelers(xgb)"
   ]
  },
  {
   "cell_type": "code",
   "execution_count": 8,
   "metadata": {},
   "outputs": [
    {
     "name": "stdout",
     "output_type": "stream",
     "text": [
      "the highest accuracy score is: 0.866\n",
      "the best hyperparameter combination is:\\ {'C': 0.21544346900318834, 'penalty': 'l1'}\n"
     ]
    }
   ],
   "source": [
    "lr_model = LogisticRegression(solver=\"liblinear\", max_iter=10000)\n",
    "\n",
    "params={\"C\":np.logspace(-2,2,10), \"penalty\":[\"l1\"]}\n",
    "gscv = GridSearchCV(lr_model,params)\n",
    "score_best_estimator = gscv.fit(X_train, y_train).score(X_test, y_test)\n",
    "print('the highest accuracy score is: {:.3f}'.format(gscv.best_score_))\n",
    "print('the best hyperparameter combination is:\\ {}'.format(gscv.best_params_))"
   ]
  },
  {
   "cell_type": "code",
   "execution_count": 9,
   "metadata": {},
   "outputs": [
    {
     "name": "stdout",
     "output_type": "stream",
     "text": [
      "Accuracy on train data:  89.42%\n",
      "Cross Validation Score :  91.26%\n",
      "Accuracy on test data:  88.89%\n",
      "ROC_AUC Score :  90.62%\n"
     ]
    },
    {
     "data": {
      "image/png": "[encoded data removed]",
      "text/plain": [
       "<Figure size 400x300 with 2 Axes>"
      ]
     },
     "metadata": {},
     "output_type": "display_data"
    }
   ],
   "source": [
    "lr_model1 = LogisticRegression(solver=\"liblinear\", C=0.21544346900318834, penalty= 'l1')\n",
    "model2 = modelers(lr_model1)\n",
    "\n",
    "lr_model1.fit(X_train,y_train)\n",
    "prediction = lr_model1.predict(X_test)\n",
    "prediction_tr = lr_model1.predict(X_train)\n",
    "# Generate confusion matrix\n",
    "cm = confusion_matrix(y_test, prediction)\n",
    "\n",
    "# Plot confusion matrix\n",
    "plt.figure(figsize=(4, 3))\n",
    "sns.heatmap(cm, annot=True, fmt=\"d\", cmap=\"Blues\", xticklabels=[\"Female\", \"Male\"], yticklabels=[\"Female\", \"Male\"])\n",
    "plt.xlabel(\"Predicted Label\")\n",
    "plt.ylabel(\"True Label\")\n",
    "plt.title(\"Confusion Matrix\")\n",
    "plt.show()"
   ]
  },
  {
   "cell_type": "code",
   "execution_count": 13,
   "metadata": {},
   "outputs": [
    {
     "name": "stdout",
     "output_type": "stream",
     "text": [
      "the highest accuracy score is: 0.875\n",
      "the best hyperparameter combination is:\\ {'C': 0.21544346900318834, 'penalty': 'l2'}\n"
     ]
    }
   ],
   "source": [
    "lr_model = LogisticRegression(solver=\"liblinear\", max_iter=10000)\n",
    "\n",
    "params={\"C\":np.logspace(-2,2,10), \"penalty\":[\"l2\"]}\n",
    "gscv = GridSearchCV(lr_model,params)\n",
    "score_best_estimator = gscv.fit(X_train, y_train).score(X_test, y_test)\n",
    "print('the highest accuracy score is: {:.3f}'.format(gscv.best_score_))\n",
    "print('the best hyperparameter combination is:\\ {}'.format(gscv.best_params_))"
   ]
  },
  {
   "cell_type": "code",
   "execution_count": 14,
   "metadata": {},
   "outputs": [
    {
     "name": "stdout",
     "output_type": "stream",
     "text": [
      "Accuracy on train data:  94.23%\n",
      "Cross Validation Score :  91.97%\n",
      "Accuracy on test data:  59.26%\n",
      "ROC_AUC Score :  50.00%\n"
     ]
    }
   ],
   "source": [
    "lr_model2 = LogisticRegression(solver=\"liblinear\", C = 0.21544346900318834, penalty= 'l2')\n",
    "model21 = modelers(lr_model2)"
   ]
  },
  {
   "cell_type": "code",
   "execution_count": 15,
   "metadata": {},
   "outputs": [
    {
     "name": "stdout",
     "output_type": "stream",
     "text": [
      "The highest accuracy score is: 0.874\n",
      "The best hyperparameter combination is: {'max_depth': 2, 'min_samples_leaf': 5, 'n_estimators': 50}\n"
     ]
    }
   ],
   "source": [
    "grids = {\n",
    "    'min_samples_leaf': [1, 2, 5, 10],\n",
    "    'n_estimators': [10, 20, 50],\n",
    "    'max_depth': [2, 5, 10]\n",
    "}\n",
    "\n",
    "# Initialize RandomForestClassifier with a fixed random state\n",
    "randf = RandomForestClassifier(random_state=42)\n",
    "\n",
    "# Initialize GridSearchCV\n",
    "# Using StratifiedKFold for cross-validation to avoid randomness\n",
    "gscv = GridSearchCV(randf, grids, scoring='accuracy')\n",
    "\n",
    "# Fit GridSearchCV\n",
    "score_best_estimator = gscv.fit(X_train, y_train).score(X_test, y_test)\n",
    "\n",
    "# Print results\n",
    "print('The highest accuracy score is: {:.3f}'.format(gscv.best_score_))\n",
    "print('The best hyperparameter combination is: {}'.format(gscv.best_params_))"
   ]
  },
  {
   "cell_type": "code",
   "execution_count": 16,
   "metadata": {},
   "outputs": [
    {
     "name": "stdout",
     "output_type": "stream",
     "text": [
      "Accuracy on train data:  94.23%\n",
      "Cross Validation Score :  91.21%\n",
      "Accuracy on test data:  62.96%\n",
      "ROC_AUC Score :  64.49%\n"
     ]
    }
   ],
   "source": [
    "rf = RandomForestClassifier(max_depth=2, n_estimators=50, min_samples_leaf=5)\n",
    "model3=modelers(rf)"
   ]
  },
  {
   "cell_type": "code",
   "execution_count": 17,
   "metadata": {},
   "outputs": [
    {
     "name": "stdout",
     "output_type": "stream",
     "text": [
      "Accuracy on train data:  97.12%\n",
      "Cross Validation Score :  93.13%\n",
      "Accuracy on test data:  59.26%\n",
      "ROC_AUC Score :  50.00%\n"
     ]
    }
   ],
   "source": [
    "svc1 = SVC()\n",
    "model4 =modelers(svc1)"
   ]
  },
  {
   "cell_type": "code",
   "execution_count": 18,
   "metadata": {},
   "outputs": [
    {
     "name": "stdout",
     "output_type": "stream",
     "text": [
      "the highest accuracy score is: 0.856\n",
      "the best hyperparameter combination is:\\ {'n_neighbors': 7}\n"
     ]
    }
   ],
   "source": [
    "knn =KNN()\n",
    "\n",
    "params= {'n_neighbors': [3, 5, 7, 9]}\n",
    "gscv=GridSearchCV(knn, params, scoring='accuracy',cv=4, n_jobs=-1)\n",
    "score_best_estimator = gscv.fit(X_train, y_train).score(X_test, y_test)\n",
    "print('the highest accuracy score is: {:.3f}'.format(gscv.best_score_))\n",
    "print('the best hyperparameter combination is:\\ {}'.format(gscv.best_params_))"
   ]
  },
  {
   "cell_type": "code",
   "execution_count": 19,
   "metadata": {},
   "outputs": [
    {
     "name": "stdout",
     "output_type": "stream",
     "text": [
      "Accuracy on train data:  89.42%\n",
      "Cross Validation Score :  88.18%\n",
      "Accuracy on test data:  59.26%\n",
      "ROC_AUC Score :  50.00%\n"
     ]
    }
   ],
   "source": [
    "knn1 = KNN(7)\n",
    "model5 = modelers(knn1)"
   ]
  },
  {
   "cell_type": "code",
   "execution_count": 21,
   "metadata": {},
   "outputs": [
    {
     "name": "stdout",
     "output_type": "stream",
     "text": [
      "the highest accuracy score is: 0.827\n",
      "the best hyperparameter combination is:\\ {'learning_rate': 0.1, 'n_estimators': 10}\n"
     ]
    }
   ],
   "source": [
    "adaboost = AdaBoostClassifier(algorithm='SAMME')\n",
    "params = {'n_estimators': [10, 20, 50], 'learning_rate':[0.0001, 0.001, 0.01, 0.1, 1.0]}\n",
    "\n",
    "gscv=GridSearchCV(adaboost, params, scoring='accuracy', n_jobs=-1)\n",
    "score_best_estimator = gscv.fit(X_train, y_train).score(X_test, y_test)\n",
    "print('the highest accuracy score is: {:.3f}'.format(gscv.best_score_))\n",
    "print('the best hyperparameter combination is:\\ {}'.format(gscv.best_params_))"
   ]
  },
  {
   "cell_type": "code",
   "execution_count": 22,
   "metadata": {},
   "outputs": [
    {
     "name": "stdout",
     "output_type": "stream",
     "text": [
      "Accuracy on train data:  85.58%\n",
      "Cross Validation Score :  87.70%\n",
      "Accuracy on test data:  62.96%\n",
      "ROC_AUC Score :  68.75%\n"
     ]
    }
   ],
   "source": [
    "adaboost1 = AdaBoostClassifier(learning_rate=0.1, n_estimators=10, algorithm='SAMME')\n",
    "\n",
    "model6 = modelers(adaboost1)"
   ]
  },
  {
   "cell_type": "code",
   "execution_count": 24,
   "metadata": {},
   "outputs": [
    {
     "name": "stdout",
     "output_type": "stream",
     "text": [
      "the highest accuracy score is: 0.875\n",
      "the best hyperparameter combination is:\\ {'learning_rate': 0.1, 'min_samples_leaf': 10, 'min_samples_split': 5, 'n_estimators': 10}\n"
     ]
    }
   ],
   "source": [
    "gboost = GradientBoostingClassifier()\n",
    "params = {'learning_rate':[0.1,0.01,0.2,0.5],\n",
    "         'n_estimators':[10,20,50],\n",
    "         'min_samples_split':[2,3,5],\n",
    "         'min_samples_leaf':[1,2,5,10]}\n",
    "\n",
    "gscv = GridSearchCV(gboost,params)\n",
    "score_best_estimator = gscv.fit(X_train, y_train).score(X_test, y_test)\n",
    "print('the highest accuracy score is: {:.3f}'.format(gscv.best_score_))\n",
    "print('the best hyperparameter combination is:\\ {}'.format(gscv.best_params_))"
   ]
  },
  {
   "cell_type": "code",
   "execution_count": 26,
   "metadata": {},
   "outputs": [
    {
     "name": "stdout",
     "output_type": "stream",
     "text": [
      "Accuracy on train data:  94.23%\n",
      "Cross Validation Score :  89.34%\n",
      "Accuracy on test data:  77.78%\n",
      "ROC_AUC Score :  75.57%\n"
     ]
    }
   ],
   "source": [
    "gboost1 = GradientBoostingClassifier(learning_rate=0.1, min_samples_leaf=10, min_samples_split=5, n_estimators=10)\n",
    "model7 = modelers(gboost1)"
   ]
  },
  {
   "cell_type": "markdown",
   "metadata": {},
   "source": [
    "Live Audio Recognition"
   ]
  },
  {
   "cell_type": "code",
   "execution_count": 1,
   "metadata": {},
   "outputs": [
    {
     "name": "stdout",
     "output_type": "stream",
     "text": [
      "Requirement already satisfied: wavio in c:\\users\\hp\\appdata\\local\\programs\\python\\python311\\lib\\site-packages (0.0.8)\n",
      "Requirement already satisfied: numpy>=1.19.0 in c:\\users\\hp\\appdata\\local\\programs\\python\\python311\\lib\\site-packages (from wavio) (1.24.2)\n",
      "Requirement already satisfied: ffmpeg in c:\\users\\hp\\appdata\\local\\programs\\python\\python311\\lib\\site-packages (1.4)\n"
     ]
    }
   ],
   "source": [
    "!pip install wavio\n",
    "!pip install ffmpeg"
   ]
  },
  {
   "cell_type": "code",
   "execution_count": 13,
   "metadata": {},
   "outputs": [],
   "source": [
    "import sounddevice as sd\n",
    "import wavio\n",
    "import sounddevice as sd\n",
    "import numpy as np\n",
    "from scipy.io.wavfile import write"
   ]
  },
  {
   "cell_type": "code",
   "execution_count": 37,
   "metadata": {},
   "outputs": [
    {
     "name": "stdout",
     "output_type": "stream",
     "text": [
      "   0 Microsoft Sound Mapper - Input, MME (2 in, 0 out)\n",
      ">  1 Набор микрофонов (Технология In, MME (2 in, 0 out)\n",
      "   2 Микрофон (Steam Streaming Micro, MME (2 in, 0 out)\n",
      "   3 Microsoft Sound Mapper - Output, MME (0 in, 2 out)\n",
      "<  4 Speaker (Realtek(R) Audio), MME (0 in, 2 out)\n",
      "   5 Динамики (Steam Streaming Speak, MME (0 in, 2 out)\n",
      "   6 Динамики (Steam Streaming Micro, MME (0 in, 2 out)\n",
      "   7 Primary Sound Capture Driver, Windows DirectSound (2 in, 0 out)\n",
      "   8 Набор микрофонов (Технология Intel® Smart Sound), Windows DirectSound (2 in, 0 out)\n",
      "   9 Микрофон (Steam Streaming Microphone), Windows DirectSound (2 in, 0 out)\n",
      "  10 Primary Sound Driver, Windows DirectSound (0 in, 2 out)\n",
      "  11 Speaker (Realtek(R) Audio), Windows DirectSound (0 in, 2 out)\n",
      "  12 Динамики (Steam Streaming Speakers), Windows DirectSound (0 in, 2 out)\n",
      "  13 Динамики (Steam Streaming Microphone), Windows DirectSound (0 in, 2 out)\n",
      "  14 Динамики (Steam Streaming Speakers), Windows WASAPI (0 in, 2 out)\n",
      "  15 Динамики (Steam Streaming Microphone), Windows WASAPI (0 in, 2 out)\n",
      "  16 Speaker (Realtek(R) Audio), Windows WASAPI (0 in, 2 out)\n",
      "  17 Набор микрофонов (Технология Intel® Smart Sound), Windows WASAPI (2 in, 0 out)\n",
      "  18 Микрофон (Steam Streaming Microphone), Windows WASAPI (1 in, 0 out)\n",
      "  19 Набор микрофонов 1 (Технология Intel® Smart Sound – микрофон), Windows WDM-KS (2 in, 0 out)\n",
      "  20 Набор микрофонов 2 (Технология Intel® Smart Sound – микрофон), Windows WDM-KS (4 in, 0 out)\n",
      "  21 Набор микрофонов 3 (Технология Intel® Smart Sound – микрофон), Windows WDM-KS (4 in, 0 out)\n",
      "  22 Headphones 1 (Realtek HD Audio 2nd output with SST), Windows WDM-KS (0 in, 2 out)\n",
      "  23 Headphones 2 (Realtek HD Audio 2nd output with SST), Windows WDM-KS (0 in, 2 out)\n",
      "  24 Динамик ПК (Realtek HD Audio 2nd output with SST), Windows WDM-KS (2 in, 0 out)\n",
      "  25 Speakers (Realtek HD Audio output), Windows WDM-KS (0 in, 8 out)\n",
      "  26 Микрофон (Realtek HD Audio Mic input), Windows WDM-KS (2 in, 0 out)\n",
      "  27 Наушники (), Windows WDM-KS (0 in, 2 out)\n",
      "  28 Динамики (), Windows WDM-KS (0 in, 2 out)\n",
      "  29 Наушники (), Windows WDM-KS (0 in, 2 out)\n",
      "  30 Микрофон (Steam Streaming Microphone Wave), Windows WDM-KS (8 in, 0 out)\n",
      "  31 Speakers (Steam Streaming Microphone Wave), Windows WDM-KS (0 in, 8 out)\n",
      "  32 Наушники (), Windows WDM-KS (0 in, 2 out)\n",
      "  33 Динамики (), Windows WDM-KS (0 in, 2 out)\n",
      "  34 Input (Steam Streaming Speakers Wave), Windows WDM-KS (8 in, 0 out)\n",
      "  35 Speakers (Steam Streaming Speakers Wave), Windows WDM-KS (0 in, 8 out)\n",
      "  36 Наушники (), Windows WDM-KS (0 in, 2 out)\n",
      "  37 Наушники (), Windows WDM-KS (0 in, 2 out)\n",
      "  38 Динамики (), Windows WDM-KS (0 in, 2 out)\n"
     ]
    }
   ],
   "source": [
    "def list_devices():\n",
    "    \"\"\" List all available audio input and output devices. \"\"\"\n",
    "    print(sd.query_devices())\n",
    "\n",
    "\n",
    "def record_audio(duration=5, fs=44100, channels=1, filename='live_recorded_voice.wav'):\n",
    "    print(\"Recording...\")\n",
    "    try:\n",
    "        recording = sd.rec(int(duration * fs), samplerate=fs, channels=channels, dtype='float32')\n",
    "        sd.wait()  # Wait until recording is finished\n",
    "        wavio.write(filename, recording, fs, sampwidth=2)\n",
    "        print(\"Recording and file saving complete\")\n",
    "        return filename\n",
    "    except Exception as e:\n",
    "        print(f\"Failed to record or save audio: {e}\")\n",
    "        return None\n",
    "\n",
    "\n",
    "def extract_features(file_path):\n",
    "    try:\n",
    "        audio, sr = librosa.load(file_path, sr=None)  # Using `sr=None` to preserve original sampling rate\n",
    "        mfccs = librosa.feature.mfcc(y=audio, sr=sr, n_mfcc=20)\n",
    "        if np.any(np.isnan(mfccs)) or np.any(np.isinf(mfccs)):\n",
    "            raise ValueError(\"NaN or Inf in extracted MFCCs\")\n",
    "        mfccs_mean = np.mean(mfccs, axis=1)\n",
    "        print(f\"Features extracted successfully: {mfccs_mean.shape}\")\n",
    "        return mfccs_mean.reshape(1, -1)\n",
    "    except Exception as e:\n",
    "        print(f\"Error processing {file_path}: {e}\")\n",
    "        return None\n",
    "\n",
    "list_devices()\n",
    "\n"
   ]
  },
  {
   "cell_type": "code",
   "execution_count": 38,
   "metadata": {},
   "outputs": [
    {
     "name": "stdout",
     "output_type": "stream",
     "text": [
      "Recording...\n",
      "Recording and file saving complete\n",
      "Features extracted successfully: (20,)\n",
      "Predicting gender...\n",
      "Predicted Gender: male\n",
      "Probability Male: 59.54%   Female: 40.46%\n"
     ]
    }
   ],
   "source": [
    "def predict_gender(model, features):\n",
    "    try:\n",
    "        print(\"Predicting gender...\")\n",
    "        prediction = model.predict(features)[0]\n",
    "        probability = model.predict_proba(features)[0]\n",
    "        gender = 'male' if prediction == 1 else 'female'\n",
    "        print(f\"Predicted Gender: {gender}\")\n",
    "        print(f\"Probability Male: {probability[1]*100:.2f}%   Female: {probability[0]*100:.2f}%\")\n",
    "    except Exception as e:\n",
    "        print(f\"An error occurred during prediction: {e}\")\n",
    "\n",
    "def main():\n",
    "    filename = record_audio()\n",
    "    if filename is None:\n",
    "        print(\"Recording failed.\")\n",
    "        return\n",
    "    \n",
    "    features = extract_features(filename)\n",
    "    if features is None:\n",
    "        print(\"Feature extraction failed.\")\n",
    "        return\n",
    "    \n",
    "    if model2 is None:\n",
    "        print(\"Model not initialized.\")\n",
    "        return\n",
    "\n",
    "    predict_gender(model2, features)\n",
    "\n",
    "if __name__ == \"__main__\":\n",
    "    main()\n",
    "\n"
   ]
  }
 ],
 "metadata": {
  "kernelspec": {
   "display_name": "Python 3",
   "language": "python",
   "name": "python3"
  },
  "language_info": {
   "codemirror_mode": {
    "name": "ipython",
    "version": 3
   },
   "file_extension": ".py",
   "mimetype": "text/x-python",
   "name": "python",
   "nbconvert_exporter": "python",
   "pygments_lexer": "ipython3",
   "version": "3.11.2"
  }
 },
 "nbformat": 4,
 "nbformat_minor": 2
}
